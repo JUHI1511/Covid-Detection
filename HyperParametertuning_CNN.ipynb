{
  "nbformat": 4,
  "nbformat_minor": 0,
  "metadata": {
    "colab": {
      "name": "HyperParametertuning_CNN.ipynb",
      "provenance": []
    },
    "kernelspec": {
      "name": "python3",
      "display_name": "Python 3"
    },
    "language_info": {
      "name": "python"
    },
    "accelerator": "GPU"
  },
  "cells": [
    {
      "cell_type": "code",
      "metadata": {
        "colab": {
          "base_uri": "https://localhost:8080/"
        },
        "id": "e1_ONc3hDb_E",
        "outputId": "7e58e4c4-096f-44c2-c5ed-b25c0fb9fcfd"
      },
      "source": [
        "!pip install -U keras-tuner"
      ],
      "execution_count": 56,
      "outputs": [
        {
          "output_type": "stream",
          "text": [
            "Requirement already up-to-date: keras-tuner in /usr/local/lib/python3.7/dist-packages (1.0.2)\n",
            "Requirement already satisfied, skipping upgrade: numpy in /usr/local/lib/python3.7/dist-packages (from keras-tuner) (1.19.5)\n",
            "Requirement already satisfied, skipping upgrade: future in /usr/local/lib/python3.7/dist-packages (from keras-tuner) (0.16.0)\n",
            "Requirement already satisfied, skipping upgrade: colorama in /usr/local/lib/python3.7/dist-packages (from keras-tuner) (0.4.4)\n",
            "Requirement already satisfied, skipping upgrade: scipy in /usr/local/lib/python3.7/dist-packages (from keras-tuner) (1.4.1)\n",
            "Requirement already satisfied, skipping upgrade: terminaltables in /usr/local/lib/python3.7/dist-packages (from keras-tuner) (3.1.0)\n",
            "Requirement already satisfied, skipping upgrade: packaging in /usr/local/lib/python3.7/dist-packages (from keras-tuner) (20.9)\n",
            "Requirement already satisfied, skipping upgrade: tabulate in /usr/local/lib/python3.7/dist-packages (from keras-tuner) (0.8.9)\n",
            "Requirement already satisfied, skipping upgrade: tqdm in /usr/local/lib/python3.7/dist-packages (from keras-tuner) (4.41.1)\n",
            "Requirement already satisfied, skipping upgrade: requests in /usr/local/lib/python3.7/dist-packages (from keras-tuner) (2.23.0)\n",
            "Requirement already satisfied, skipping upgrade: scikit-learn in /usr/local/lib/python3.7/dist-packages (from keras-tuner) (0.22.2.post1)\n",
            "Requirement already satisfied, skipping upgrade: pyparsing>=2.0.2 in /usr/local/lib/python3.7/dist-packages (from packaging->keras-tuner) (2.4.7)\n",
            "Requirement already satisfied, skipping upgrade: chardet<4,>=3.0.2 in /usr/local/lib/python3.7/dist-packages (from requests->keras-tuner) (3.0.4)\n",
            "Requirement already satisfied, skipping upgrade: urllib3!=1.25.0,!=1.25.1,<1.26,>=1.21.1 in /usr/local/lib/python3.7/dist-packages (from requests->keras-tuner) (1.24.3)\n",
            "Requirement already satisfied, skipping upgrade: idna<3,>=2.5 in /usr/local/lib/python3.7/dist-packages (from requests->keras-tuner) (2.10)\n",
            "Requirement already satisfied, skipping upgrade: certifi>=2017.4.17 in /usr/local/lib/python3.7/dist-packages (from requests->keras-tuner) (2020.12.5)\n",
            "Requirement already satisfied, skipping upgrade: joblib>=0.11 in /usr/local/lib/python3.7/dist-packages (from scikit-learn->keras-tuner) (1.0.1)\n"
          ],
          "name": "stdout"
        }
      ]
    },
    {
      "cell_type": "code",
      "metadata": {
        "id": "9wEsOgFrCicB"
      },
      "source": [
        "import numpy as np\n",
        "import pandas as pd\n",
        "import tensorflow as tf\n",
        "from tensorflow import keras\n",
        "from tensorflow.keras import layers\n",
        "from kerastuner.tuners import RandomSearch\n",
        "from tensorflow.keras.models import Sequential,Model\n",
        "from tensorflow.keras.layers import Conv2D\n",
        "from tensorflow.keras.layers import Flatten\n",
        "from tensorflow.keras.layers import MaxPool2D\n",
        "from tensorflow.keras.preprocessing.image import ImageDataGenerator\n",
        "from tensorflow.keras.preprocessing import image_dataset_from_directory\n",
        "from tensorflow import keras\n",
        "from tensorflow.keras import layers\n",
        "from kerastuner.tuners import RandomSearch\n",
        "from glob import glob\n",
        "import matplotlib.pyplot as plt\n"
      ],
      "execution_count": 57,
      "outputs": []
    },
    {
      "cell_type": "code",
      "metadata": {
        "colab": {
          "base_uri": "https://localhost:8080/"
        },
        "id": "Ci_o-GFyC6A7",
        "outputId": "1f9d5313-7c0d-4c1b-d1b1-ee2753e88fa3"
      },
      "source": [
        "print(tf.__version__)\n",
        "if tf.test.gpu_device_name():\n",
        "    print('Default GPU Device: {}'.format(tf.test.gpu_device_name()))\n",
        "else:\n",
        "    print(\"Please install GPU version of TF\")"
      ],
      "execution_count": 58,
      "outputs": [
        {
          "output_type": "stream",
          "text": [
            "2.5.0\n",
            "Default GPU Device: /device:GPU:0\n"
          ],
          "name": "stdout"
        }
      ]
    },
    {
      "cell_type": "code",
      "metadata": {
        "id": "SEGHUvfCDqIY"
      },
      "source": [
        "train_datagenerator = ImageDataGenerator(rescale = 1.0/255,\n",
        "                                        shear_range = 0.2,\n",
        "                                        zoom_range = 0.5,\n",
        "                                        horizontal_flip = True,\n",
        "                                        rotation_range=10,\n",
        "                                        width_shift_range=0.2,\n",
        "                                        brightness_range=[0.2,1.2]\n",
        "                                        )\n",
        "test_datagenerator = ImageDataGenerator(rescale = 1.0/255)"
      ],
      "execution_count": 59,
      "outputs": []
    },
    {
      "cell_type": "code",
      "metadata": {
        "colab": {
          "base_uri": "https://localhost:8080/"
        },
        "id": "EXzxmyW_DvCI",
        "outputId": "248fa9c1-f179-46d2-af37-2fdbe8797731"
      },
      "source": [
        "train_data = train_datagenerator.flow_from_directory('/content/drive/MyDrive/Covid-Detection/Train',\n",
        "                                                    target_size = (256,256),\n",
        "                                                    batch_size = 32,\n",
        "                                                    class_mode = 'binary')"
      ],
      "execution_count": 60,
      "outputs": [
        {
          "output_type": "stream",
          "text": [
            "Found 224 images belonging to 2 classes.\n"
          ],
          "name": "stdout"
        }
      ]
    },
    {
      "cell_type": "code",
      "metadata": {
        "colab": {
          "base_uri": "https://localhost:8080/"
        },
        "id": "AubmKAgmJk5L",
        "outputId": "f25ab831-ebdd-4835-eb1b-68bb124919e4"
      },
      "source": [
        "test_data = test_datagenerator.flow_from_directory('/content/drive/MyDrive/Covid-Detection/Val',\n",
        "                                                  target_size = (256,256),\n",
        "                                                    batch_size = 32,\n",
        "                                                    class_mode = 'binary')"
      ],
      "execution_count": 61,
      "outputs": [
        {
          "output_type": "stream",
          "text": [
            "Found 60 images belonging to 2 classes.\n"
          ],
          "name": "stdout"
        }
      ]
    },
    {
      "cell_type": "code",
      "metadata": {
        "id": "NARgY0wbJw8P"
      },
      "source": [
        "train_img,train_lables = train_data.next()\n",
        "test_img,test_lables = test_data.next()"
      ],
      "execution_count": 62,
      "outputs": []
    },
    {
      "cell_type": "code",
      "metadata": {
        "colab": {
          "base_uri": "https://localhost:8080/"
        },
        "id": "SnwvrCaxJ8oj",
        "outputId": "cb9b2af0-f602-41db-b75a-25662b29d681"
      },
      "source": [
        "test_img.shape"
      ],
      "execution_count": 63,
      "outputs": [
        {
          "output_type": "execute_result",
          "data": {
            "text/plain": [
              "(32, 256, 256, 3)"
            ]
          },
          "metadata": {
            "tags": []
          },
          "execution_count": 63
        }
      ]
    },
    {
      "cell_type": "code",
      "metadata": {
        "id": "yfFxx_HAKFcU"
      },
      "source": [
        "def build_model(hp):\n",
        "    cnn = tf.keras.models.Sequential()\n",
        "    # Convolution \n",
        "    cnn.add(tf.keras.layers.Conv2D(filters=hp.Int('conv_1_filter', min_value=64, max_value=128, step=16),\n",
        "                kernel_size=hp.Choice('conv_1_kernel', values = [3,5]),\n",
        "                activation='relu',\n",
        "                input_shape=(256,256,3)))\n",
        "    cnn.add(tf.keras.layers.Conv2D(filters=hp.Int('conv_2_filter', min_value=32, max_value=64, step=8),\n",
        "                kernel_size=hp.Choice('conv_1_kernel', values = [3,5]),activation='relu'))\n",
        "    # pooling\n",
        "    cnn.add(tf.keras.layers.MaxPool2D(pool_size=2,strides=2))\n",
        "    # Convolution\n",
        "    cnn.add(tf.keras.layers.Conv2D(filters=hp.Int('conv_2_filter', min_value=32, max_value=64, step=16),\n",
        "                                   kernel_size=hp.Choice('conv_1_kernel', values = [3,5]),activation='relu'))\n",
        "    cnn.add(tf.keras.layers.Conv2D(filters=hp.Int('conv_4_filter', min_value=32, max_value=64, step=8),\n",
        "                                   kernel_size=hp.Choice('conv_1_kernel', values = [3,5]),activation='relu'))\n",
        "    #pooling\n",
        "    cnn.add(tf.keras.layers.MaxPool2D(pool_size=2,strides=2))\n",
        "\n",
        "    #flaterning\n",
        "    cnn.add(tf.keras.layers.Flatten())\n",
        "    keras.layers.Dense(units=hp.Int('dense_1_units', min_value=64, max_value=128, step=16),activation='relu'),\n",
        "    keras.layers.Dense(units=hp.Int('dense_2_units', min_value=64, max_value=128, step=16),activation='relu'),\n",
        "    # Output layer\n",
        "    cnn.add(tf.keras.layers.Dense(units=1,activation='sigmoid'))\n",
        "    cnn.compile(optimizer=keras.optimizers.Adam(hp.Choice('learning_rate', values=[1e-2, 1e-3])),\n",
        "                  loss='binary_crossentropy',metrics=['accuracy'])\n",
        "    return cnn"
      ],
      "execution_count": 64,
      "outputs": []
    },
    {
      "cell_type": "code",
      "metadata": {
        "colab": {
          "base_uri": "https://localhost:8080/"
        },
        "id": "57z2O34VKWdM",
        "outputId": "85e87cb7-fd20-42d3-8e02-0bffb6a47275"
      },
      "source": [
        "tuner = RandomSearch(\n",
        "    build_model,\n",
        "    objective='val_accuracy',\n",
        "    max_trials=5,\n",
        "    executions_per_trial=3,\n",
        "    directory='output',\n",
        "    project_name='Covid-Detection')"
      ],
      "execution_count": 65,
      "outputs": [
        {
          "output_type": "stream",
          "text": [
            "INFO:tensorflow:Reloading Oracle from existing project output/Covid-Detection/oracle.json\n",
            "INFO:tensorflow:Reloading Tuner from output/Covid-Detection/tuner0.json\n"
          ],
          "name": "stdout"
        }
      ]
    },
    {
      "cell_type": "code",
      "metadata": {
        "colab": {
          "base_uri": "https://localhost:8080/"
        },
        "id": "Bwo1VouSKd8E",
        "outputId": "8384f4e1-ad54-498a-e918-36c3e6ac8e0f"
      },
      "source": [
        "tuner.search(train_img,train_lables,\n",
        "             epochs=7,\n",
        "             validation_data=(test_img,test_lables),batch_size = 32)"
      ],
      "execution_count": 66,
      "outputs": [
        {
          "output_type": "stream",
          "text": [
            "INFO:tensorflow:Oracle triggered exit\n"
          ],
          "name": "stdout"
        }
      ]
    },
    {
      "cell_type": "code",
      "metadata": {
        "colab": {
          "base_uri": "https://localhost:8080/"
        },
        "id": "09ppWbLaMCKB",
        "outputId": "3f86232f-3890-47cd-f2ea-adb4eed77787"
      },
      "source": [
        "model = tuner.get_best_models(num_models=1)[0]\n",
        "model"
      ],
      "execution_count": 67,
      "outputs": [
        {
          "output_type": "execute_result",
          "data": {
            "text/plain": [
              "<tensorflow.python.keras.engine.sequential.Sequential at 0x7fc110ace750>"
            ]
          },
          "metadata": {
            "tags": []
          },
          "execution_count": 67
        }
      ]
    },
    {
      "cell_type": "code",
      "metadata": {
        "colab": {
          "base_uri": "https://localhost:8080/"
        },
        "id": "SWrGEzXjMHCv",
        "outputId": "d3476c3a-f2cc-4f93-af85-62b44c07056d"
      },
      "source": [
        "tuner.results_summary()"
      ],
      "execution_count": 68,
      "outputs": [
        {
          "output_type": "stream",
          "text": [
            "Results summary\n",
            "Results in output/Covid-Detection\n",
            "Showing 10 best trials\n",
            "Objective(name='val_accuracy', direction='max')\n",
            "Trial summary\n",
            "Hyperparameters:\n",
            "conv_1_filter: 112\n",
            "conv_1_kernel: 3\n",
            "conv_2_filter: 40\n",
            "conv_4_filter: 40\n",
            "dense_1_units: 96\n",
            "dense_2_units: 112\n",
            "learning_rate: 0.001\n",
            "Score: 0.8645833333333334\n",
            "Trial summary\n",
            "Hyperparameters:\n",
            "conv_1_filter: 96\n",
            "conv_1_kernel: 5\n",
            "conv_2_filter: 48\n",
            "conv_4_filter: 48\n",
            "dense_1_units: 80\n",
            "dense_2_units: 128\n",
            "learning_rate: 0.001\n",
            "Score: 0.8020833333333334\n",
            "Trial summary\n",
            "Hyperparameters:\n",
            "conv_1_filter: 80\n",
            "conv_1_kernel: 5\n",
            "conv_2_filter: 56\n",
            "conv_4_filter: 56\n",
            "dense_1_units: 128\n",
            "dense_2_units: 96\n",
            "learning_rate: 0.001\n",
            "Score: 0.6666666666666666\n",
            "Trial summary\n",
            "Hyperparameters:\n",
            "conv_1_filter: 80\n",
            "conv_1_kernel: 5\n",
            "conv_2_filter: 32\n",
            "conv_4_filter: 40\n",
            "dense_1_units: 80\n",
            "dense_2_units: 80\n",
            "learning_rate: 0.01\n",
            "Score: 0.5833333333333334\n",
            "Trial summary\n",
            "Hyperparameters:\n",
            "conv_1_filter: 112\n",
            "conv_1_kernel: 5\n",
            "conv_2_filter: 40\n",
            "conv_4_filter: 40\n",
            "dense_1_units: 112\n",
            "dense_2_units: 64\n",
            "learning_rate: 0.01\n",
            "Score: 0.5\n"
          ],
          "name": "stdout"
        }
      ]
    },
    {
      "cell_type": "code",
      "metadata": {
        "colab": {
          "base_uri": "https://localhost:8080/"
        },
        "id": "7vkP6VFMMVzU",
        "outputId": "cc5747f6-247e-47bb-e86a-f98783235987"
      },
      "source": [
        "model_history=model.fit(train_img, train_lables,epochs=11,validation_split=0.3,initial_epoch=3)"
      ],
      "execution_count": 69,
      "outputs": [
        {
          "output_type": "stream",
          "text": [
            "Epoch 4/11\n",
            "1/1 [==============================] - 1s 859ms/step - loss: 0.5966 - accuracy: 0.6818 - val_loss: 0.5203 - val_accuracy: 0.8000\n",
            "Epoch 5/11\n",
            "1/1 [==============================] - 0s 198ms/step - loss: 0.5513 - accuracy: 0.6818 - val_loss: 0.4519 - val_accuracy: 0.8000\n",
            "Epoch 6/11\n",
            "1/1 [==============================] - 0s 205ms/step - loss: 0.4818 - accuracy: 0.7727 - val_loss: 0.3778 - val_accuracy: 0.9000\n",
            "Epoch 7/11\n",
            "1/1 [==============================] - 0s 250ms/step - loss: 0.4249 - accuracy: 0.8182 - val_loss: 0.3826 - val_accuracy: 0.8000\n",
            "Epoch 8/11\n",
            "1/1 [==============================] - 0s 206ms/step - loss: 0.3964 - accuracy: 0.7273 - val_loss: 0.2808 - val_accuracy: 0.9000\n",
            "Epoch 9/11\n",
            "1/1 [==============================] - 0s 199ms/step - loss: 0.2569 - accuracy: 1.0000 - val_loss: 0.2595 - val_accuracy: 0.9000\n",
            "Epoch 10/11\n",
            "1/1 [==============================] - 0s 202ms/step - loss: 0.2681 - accuracy: 0.9091 - val_loss: 0.2467 - val_accuracy: 0.9000\n",
            "Epoch 11/11\n",
            "1/1 [==============================] - 0s 203ms/step - loss: 0.1668 - accuracy: 1.0000 - val_loss: 0.2398 - val_accuracy: 0.9000\n"
          ],
          "name": "stdout"
        }
      ]
    },
    {
      "cell_type": "code",
      "metadata": {
        "colab": {
          "base_uri": "https://localhost:8080/"
        },
        "id": "Rsj4DYN8O9iH",
        "outputId": "09387da6-ee33-483a-e31a-359a1d243b52"
      },
      "source": [
        "model.metrics_names"
      ],
      "execution_count": 70,
      "outputs": [
        {
          "output_type": "execute_result",
          "data": {
            "text/plain": [
              "['loss', 'accuracy']"
            ]
          },
          "metadata": {
            "tags": []
          },
          "execution_count": 70
        }
      ]
    },
    {
      "cell_type": "code",
      "metadata": {
        "colab": {
          "base_uri": "https://localhost:8080/",
          "height": 312
        },
        "id": "DnQSxJTgPCdK",
        "outputId": "5d9be67f-d3bf-4405-d875-0506e8877954"
      },
      "source": [
        "print(model_history.history.keys())\n",
        "plt.plot(model_history.history['accuracy'],label='acc')\n",
        "plt.plot(model_history.history['val_accuracy'],label='val-acc')\n",
        "plt.title('Model Accuracy')\n",
        "plt.xlabel('Epochs')\n",
        "plt.ylabel('Accuracy')\n",
        "plt.legend()\n",
        "plt.show()"
      ],
      "execution_count": 71,
      "outputs": [
        {
          "output_type": "stream",
          "text": [
            "dict_keys(['loss', 'accuracy', 'val_loss', 'val_accuracy'])\n"
          ],
          "name": "stdout"
        },
        {
          "output_type": "display_data",
          "data": {
            "image/png": "[encoded data removed]",
            "text/plain": [
              "<Figure size 432x288 with 1 Axes>"
            ]
          },
          "metadata": {
            "tags": [],
            "needs_background": "light"
          }
        }
      ]
    },
    {
      "cell_type": "code",
      "metadata": {
        "colab": {
          "base_uri": "https://localhost:8080/",
          "height": 295
        },
        "id": "iODDUQKzP9iW",
        "outputId": "ce63ea3a-553f-4525-98a2-d010da5b0620"
      },
      "source": [
        "plt.plot(model_history.history['loss'],label='loss')\n",
        "plt.plot(model_history.history['val_loss'],label='Val loss')\n",
        "plt.title('Model Loss')\n",
        "plt.xlabel('Epochs')\n",
        "plt.ylabel('Loss')\n",
        "plt.legend()\n",
        "plt.show()"
      ],
      "execution_count": 72,
      "outputs": [
        {
          "output_type": "display_data",
          "data": {
            "image/png": "[encoded data removed]",
            "text/plain": [
              "<Figure size 432x288 with 1 Axes>"
            ]
          },
          "metadata": {
            "tags": [],
            "needs_background": "light"
          }
        }
      ]
    },
    {
      "cell_type": "code",
      "metadata": {
        "colab": {
          "base_uri": "https://localhost:8080/"
        },
        "id": "5KIuDOBBQn2j",
        "outputId": "61bab882-28a0-4744-d8a3-311972b2dd82"
      },
      "source": [
        "from keras.preprocessing import image\n",
        "path=\"/content/drive/MyDrive/Covid-Detection/Val/Normal/NORMAL2-IM-0652-0001.jpeg\"\n",
        "img=image.load_img(path,target_size=(256,256))\n",
        "img=image.img_to_array(img)/225\n",
        "img=np.array([img])\n",
        "img.shape"
      ],
      "execution_count": 74,
      "outputs": [
        {
          "output_type": "execute_result",
          "data": {
            "text/plain": [
              "(1, 256, 256, 3)"
            ]
          },
          "metadata": {
            "tags": []
          },
          "execution_count": 74
        }
      ]
    },
    {
      "cell_type": "code",
      "metadata": {
        "colab": {
          "base_uri": "https://localhost:8080/"
        },
        "id": "TFGzEApbRArL",
        "outputId": "c9f1f491-aebf-44ca-86e3-c37794b9da69"
      },
      "source": [
        "model.predict_classes(img)"
      ],
      "execution_count": 75,
      "outputs": [
        {
          "output_type": "stream",
          "text": [
            "/usr/local/lib/python3.7/dist-packages/tensorflow/python/keras/engine/sequential.py:455: UserWarning: `model.predict_classes()` is deprecated and will be removed after 2021-01-01. Please use instead:* `np.argmax(model.predict(x), axis=-1)`,   if your model does multi-class classification   (e.g. if it uses a `softmax` last-layer activation).* `(model.predict(x) > 0.5).astype(\"int32\")`,   if your model does binary classification   (e.g. if it uses a `sigmoid` last-layer activation).\n",
            "  warnings.warn('`model.predict_classes()` is deprecated and '\n"
          ],
          "name": "stderr"
        },
        {
          "output_type": "execute_result",
          "data": {
            "text/plain": [
              "array([[1]], dtype=int32)"
            ]
          },
          "metadata": {
            "tags": []
          },
          "execution_count": 75
        }
      ]
    },
    {
      "cell_type": "code",
      "metadata": {
        "colab": {
          "base_uri": "https://localhost:8080/"
        },
        "id": "WKO4xOZ9RGi1",
        "outputId": "7497cc78-8298-49b7-fa42-7826b8233f0a"
      },
      "source": [
        "import os\n",
        "y_actual,y_test=[],[]\n",
        "for i in os.listdir(\"/content/drive/MyDrive/Covid-Detection/Val/Normal\"):\n",
        "    img=image.load_img(\"/content/drive/MyDrive/Covid-Detection/Val/Normal/\"+i,target_size=(256,256))\n",
        "    img=image.img_to_array(img)\n",
        "    img=np.expand_dims(img,axis=0)\n",
        "    pred=model.predict_classes(img)\n",
        "    y_test.append(pred[0,0])\n",
        "    y_actual.append(1)"
      ],
      "execution_count": 77,
      "outputs": [
        {
          "output_type": "stream",
          "text": [
            "/usr/local/lib/python3.7/dist-packages/tensorflow/python/keras/engine/sequential.py:455: UserWarning: `model.predict_classes()` is deprecated and will be removed after 2021-01-01. Please use instead:* `np.argmax(model.predict(x), axis=-1)`,   if your model does multi-class classification   (e.g. if it uses a `softmax` last-layer activation).* `(model.predict(x) > 0.5).astype(\"int32\")`,   if your model does binary classification   (e.g. if it uses a `sigmoid` last-layer activation).\n",
            "  warnings.warn('`model.predict_classes()` is deprecated and '\n"
          ],
          "name": "stderr"
        }
      ]
    },
    {
      "cell_type": "code",
      "metadata": {
        "colab": {
          "base_uri": "https://localhost:8080/"
        },
        "id": "kFnpkOc9RXIF",
        "outputId": "987e9185-eada-402e-c754-327282c28342"
      },
      "source": [
        "for i in os.listdir(\"/content/drive/MyDrive/Covid-Detection/Val/Covid\"):\n",
        "    img=image.load_img(\"/content/drive/MyDrive/Covid-Detection/Val/Covid/\"+i,target_size=(256,256))\n",
        "    img=image.img_to_array(img)\n",
        "    img=np.expand_dims(img,axis=0)\n",
        "    pred=model.predict_classes(img)\n",
        "    y_test.append(pred[0,0])\n",
        "    y_actual.append(0)"
      ],
      "execution_count": 79,
      "outputs": [
        {
          "output_type": "stream",
          "text": [
            "/usr/local/lib/python3.7/dist-packages/tensorflow/python/keras/engine/sequential.py:455: UserWarning: `model.predict_classes()` is deprecated and will be removed after 2021-01-01. Please use instead:* `np.argmax(model.predict(x), axis=-1)`,   if your model does multi-class classification   (e.g. if it uses a `softmax` last-layer activation).* `(model.predict(x) > 0.5).astype(\"int32\")`,   if your model does binary classification   (e.g. if it uses a `sigmoid` last-layer activation).\n",
            "  warnings.warn('`model.predict_classes()` is deprecated and '\n"
          ],
          "name": "stderr"
        }
      ]
    },
    {
      "cell_type": "code",
      "metadata": {
        "id": "LO4x7JdNRegQ"
      },
      "source": [
        "y_actual=np.array(y_actual)\n",
        "y_test=np.array(y_test)"
      ],
      "execution_count": 80,
      "outputs": []
    },
    {
      "cell_type": "code",
      "metadata": {
        "colab": {
          "base_uri": "https://localhost:8080/"
        },
        "id": "AAnmQ4trRiPR",
        "outputId": "c85b9ded-3424-4023-a034-42d7ca177ba6"
      },
      "source": [
        "from sklearn.metrics import confusion_matrix,accuracy_score,classification_report\n",
        "import seaborn as sns\n",
        "cn=confusion_matrix(y_actual,y_test)\n",
        "print(cn)\n"
      ],
      "execution_count": 81,
      "outputs": [
        {
          "output_type": "stream",
          "text": [
            "[[28  2]\n",
            " [ 2 28]]\n"
          ],
          "name": "stdout"
        }
      ]
    },
    {
      "cell_type": "code",
      "metadata": {
        "colab": {
          "base_uri": "https://localhost:8080/"
        },
        "id": "Sm0S-lELRlNx",
        "outputId": "d1cf319d-1167-45f7-bc3a-6b8d66293fdb"
      },
      "source": [
        "ac=accuracy_score(y_actual,y_test)\n",
        "print(ac)"
      ],
      "execution_count": 82,
      "outputs": [
        {
          "output_type": "stream",
          "text": [
            "0.9333333333333333\n"
          ],
          "name": "stdout"
        }
      ]
    },
    {
      "cell_type": "code",
      "metadata": {
        "colab": {
          "base_uri": "https://localhost:8080/"
        },
        "id": "uLy-MXPZRqbI",
        "outputId": "f5f6ffae-6d7a-4ebe-bb9c-cc904f9f7e8c"
      },
      "source": [
        "cr=classification_report(y_actual,y_test)\n",
        "print(cr)"
      ],
      "execution_count": 84,
      "outputs": [
        {
          "output_type": "stream",
          "text": [
            "              precision    recall  f1-score   support\n",
            "\n",
            "           0       0.93      0.93      0.93        30\n",
            "           1       0.93      0.93      0.93        30\n",
            "\n",
            "    accuracy                           0.93        60\n",
            "   macro avg       0.93      0.93      0.93        60\n",
            "weighted avg       0.93      0.93      0.93        60\n",
            "\n"
          ],
          "name": "stdout"
        }
      ]
    },
    {
      "cell_type": "code",
      "metadata": {
        "colab": {
          "base_uri": "https://localhost:8080/",
          "height": 282
        },
        "id": "Q4fF5O-ARxlv",
        "outputId": "6ead41f2-580c-4fc0-f2b5-bd48fc90837e"
      },
      "source": [
        "sns.heatmap(cn,cmap=\"plasma\",annot=True) #0: Covid ; 1: Normal"
      ],
      "execution_count": 85,
      "outputs": [
        {
          "output_type": "execute_result",
          "data": {
            "text/plain": [
              "<matplotlib.axes._subplots.AxesSubplot at 0x7fc020116e10>"
            ]
          },
          "metadata": {
            "tags": []
          },
          "execution_count": 85
        },
        {
          "output_type": "display_data",
          "data": {
            "image/png": "[encoded data removed]",
            "text/plain": [
              "<Figure size 432x288 with 2 Axes>"
            ]
          },
          "metadata": {
            "tags": [],
            "needs_background": "light"
          }
        }
      ]
    }
  ]
}